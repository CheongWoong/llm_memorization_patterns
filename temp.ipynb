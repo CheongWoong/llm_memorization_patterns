{
 "cells": [
  {
   "cell_type": "code",
   "execution_count": 1,
   "metadata": {},
   "outputs": [],
   "source": [
    "import os\n",
    "os.environ[\"CUDA_DEVICE_ORDER\"]=\"PCI_BUS_ID\"   # see issue #152\n",
    "os.environ[\"CUDA_VISIBLE_DEVICES\"]=\"0\""
   ]
  },
  {
   "cell_type": "code",
   "execution_count": 2,
   "metadata": {},
   "outputs": [
    {
     "name": "stderr",
     "output_type": "stream",
     "text": [
      "/data2/cwkang/anaconda3/envs/gpt/lib/python3.8/site-packages/tqdm/auto.py:21: TqdmWarning: IProgress not found. Please update jupyter and ipywidgets. See https://ipywidgets.readthedocs.io/en/stable/user_install.html\n",
      "  from .autonotebook import tqdm as notebook_tqdm\n"
     ]
    }
   ],
   "source": [
    "import numpy as np\n",
    "import torch\n",
    "from transformers import AutoTokenizer, AutoModelForCausalLM\n",
    "\n",
    "model_path = '/data/cwkang/gpt3_test/factual_probing/results/gpt_neo_125M/'\n",
    "\n",
    "tokenizer = AutoTokenizer.from_pretrained(model_path)\n",
    "model = AutoModelForCausalLM.from_pretrained(model_path, device_map=\"auto\")"
   ]
  },
  {
   "cell_type": "code",
   "execution_count": 97,
   "metadata": {},
   "outputs": [
    {
     "name": "stderr",
     "output_type": "stream",
     "text": [
      "The attention mask and the pad token id were not set. As a consequence, you may observe unexpected behavior. Please pass your input's `attention_mask` to obtain reliable results.\n",
      "Setting `pad_token_id` to `eos_token_id`:50256 for open-end generation.\n"
     ]
    },
    {
     "name": "stdout",
     "output_type": "stream",
     "text": [
      "1\n"
     ]
    }
   ],
   "source": [
    "max_new_tokens = 50\n",
    "\n",
    "\n",
    "prefix_input = 'Gallery \"Though defensive violence will always be \\'a sad necessity\\' in the eyes of men of principle, it would be still more unfortunate if wrongdoers should dominate just men.\"- St. Augustine \"A new idea is first'\n",
    "suffix_input = 'condemned as ridiculous, and then dismissed as trivial, until finally it becomes what everybody knows.\" - William James \"This is the real task before us: to reassert our commitment as a nation to a law higher than our own,'\n",
    "\n",
    "input_ids = tokenizer.encode(prefix_input, return_tensors=\"pt\").cuda()\n",
    "print(len(input_ids))\n",
    "prompt_length = len(input_ids[0])\n",
    "\n",
    "output = model.generate(\n",
    "    input_ids,\n",
    "    max_new_tokens=max_new_tokens,\n",
    "    return_dict_in_generate=True,\n",
    "    output_scores=True\n",
    ")\n",
    "\n",
    "prefix_output = model(input_ids).logits[0].detach().cpu()\n",
    "prefix_pred = tokenizer.decode(torch.argmax(prefix_output, dim=-1))\n",
    "prefix_probs = torch.max(torch.softmax(prefix_output, dim=-1), dim=-1).values.numpy()\n",
    "prefix_scores = np.log(prefix_probs)\n",
    "\n",
    "suffix_pred = tokenizer.decode(output.sequences[0][prompt_length:], skip_special_tokens=True)\n",
    "suffix_scores = model.compute_transition_scores(\n",
    "    output.sequences, output.scores, normalize_logits=True\n",
    ")[0].detach().cpu().numpy()\n",
    "suffix_probs = np.exp(suffix_scores)"
   ]
  },
  {
   "cell_type": "code",
   "execution_count": 117,
   "metadata": {},
   "outputs": [],
   "source": [
    "def lcs(a, b):\n",
    "    prev = [0]*len(a)\n",
    "    for i,r in enumerate(a):\n",
    "        current = []\n",
    "        for j,c in enumerate(b):\n",
    "            if r==c:\n",
    "                e = prev[j-1]+1 if i* j > 0 else 1\n",
    "            else:\n",
    "                e = max(prev[j] if i > 0 else 0, current[-1] if j > 0 else 0)\n",
    "            current.append(e)\n",
    "        prev = current\n",
    "    cs = []\n",
    "    cs_index = []\n",
    "    for i in range(current[-1]):\n",
    "        cs.append(b[current.index(i+1)])\n",
    "        cs_index.append(current.index(i+1))\n",
    "    return cs_index, cs"
   ]
  },
  {
   "cell_type": "code",
   "execution_count": 118,
   "metadata": {},
   "outputs": [],
   "source": [
    "suffix_input_tokens = tokenizer.encode(suffix_input)\n",
    "suffix_pred_tokens = tokenizer.encode(suffix_pred)\n",
    "\n",
    "overlapped_index, overlapped_token_ids = lcs(suffix_input_tokens, suffix_pred_tokens)\n",
    "overlapped_text = tokenizer.decode(overlapped_token_ids)\n",
    "overlapped_ratio = len(overlapped_token_ids) / len(suffix_pred_tokens) ### Check if we have to consider len(suffix_input_tokens) as well."
   ]
  },
  {
   "cell_type": "code",
   "execution_count": 120,
   "metadata": {},
   "outputs": [
    {
     "data": {
      "text/plain": [
       "('condemned as ridiculous, and then dismissed as trivial, until finally it becomes what everybody knows.\" - William James \"This is the real task before us: to reassert our commitment as a nation to a law higher than our own,',\n",
       " ' and foremost a principle of justice, and it is the principle of justice that is the basis of the doctrine of justice.\"- St. Augustine \"The doctrine of justice is the principle of justice that is the basis of the doctrine of justice.\"- St',\n",
       " ' and a, is the is the')"
      ]
     },
     "execution_count": 120,
     "metadata": {},
     "output_type": "execute_result"
    }
   ],
   "source": [
    "suffix_input, suffix_pred, overlapped_text"
   ]
  },
  {
   "cell_type": "code",
   "execution_count": 182,
   "metadata": {},
   "outputs": [
    {
     "data": {
      "text/html": [
       "<var style='background-color:rgb(255, 255, 255);'>Prompt: Gallery \"Though defensive violence will always be 'a sad necessity' in the eyes of men of principle, it would be still more unfortunate if wrongdoers should dominate just men.\"- St. Augustine \"A new idea is first</var>"
      ]
     },
     "metadata": {},
     "output_type": "display_data"
    },
    {
     "data": {
      "text/html": [
       "<var style='background-color:rgb(255, 255, 255);'>Groundtruth: </var><var style='background-color:rgb(251, 229, 229);'>c</var><var style='background-color:rgb(251, 229, 229);'>o</var><var style='background-color:rgb(251, 229, 229);'>n</var><var style='background-color:rgb(251, 229, 229);'>d</var><var style='background-color:rgb(251, 229, 229);'>e</var><var style='background-color:rgb(251, 229, 229);'>m</var><var style='background-color:rgb(251, 229, 229);'>n</var><var style='background-color:rgb(251, 229, 229);'>e</var><var style='background-color:rgb(251, 229, 229);'>d</var><var style='background-color:rgb(163, 235, 177);'> </var><var style='background-color:rgb(163, 235, 177);'>a</var><var style='background-color:rgb(251, 229, 229);'>s</var><var style='background-color:rgb(251, 229, 229);'> </var><var style='background-color:rgb(251, 229, 229);'>r</var><var style='background-color:rgb(251, 229, 229);'>i</var><var style='background-color:rgb(251, 229, 229);'>d</var><var style='background-color:rgb(251, 229, 229);'>i</var><var style='background-color:rgb(251, 229, 229);'>c</var><var style='background-color:rgb(251, 229, 229);'>u</var><var style='background-color:rgb(251, 229, 229);'>l</var><var style='background-color:rgb(251, 229, 229);'>o</var><var style='background-color:rgb(251, 229, 229);'>u</var><var style='background-color:rgb(251, 229, 229);'>s</var><var style='background-color:rgb(251, 229, 229);'>,</var><var style='background-color:rgb(251, 229, 229);'> </var><var style='background-color:rgb(251, 229, 229);'>a</var><var style='background-color:rgb(163, 235, 177);'>n</var><var style='background-color:rgb(163, 235, 177);'>d</var><var style='background-color:rgb(163, 235, 177);'> </var><var style='background-color:rgb(251, 229, 229);'>t</var><var style='background-color:rgb(251, 229, 229);'>h</var><var style='background-color:rgb(251, 229, 229);'>e</var><var style='background-color:rgb(251, 229, 229);'>n</var><var style='background-color:rgb(251, 229, 229);'> </var><var style='background-color:rgb(251, 229, 229);'>d</var><var style='background-color:rgb(251, 229, 229);'>i</var><var style='background-color:rgb(251, 229, 229);'>s</var><var style='background-color:rgb(251, 229, 229);'>m</var><var style='background-color:rgb(251, 229, 229);'>i</var><var style='background-color:rgb(251, 229, 229);'>s</var><var style='background-color:rgb(251, 229, 229);'>s</var><var style='background-color:rgb(251, 229, 229);'>e</var><var style='background-color:rgb(251, 229, 229);'>d</var><var style='background-color:rgb(251, 229, 229);'> </var><var style='background-color:rgb(163, 235, 177);'>a</var><var style='background-color:rgb(251, 229, 229);'>s</var><var style='background-color:rgb(251, 229, 229);'> </var><var style='background-color:rgb(251, 229, 229);'>t</var><var style='background-color:rgb(251, 229, 229);'>r</var><var style='background-color:rgb(251, 229, 229);'>i</var><var style='background-color:rgb(251, 229, 229);'>v</var><var style='background-color:rgb(251, 229, 229);'>i</var><var style='background-color:rgb(251, 229, 229);'>a</var><var style='background-color:rgb(251, 229, 229);'>l</var><var style='background-color:rgb(163, 235, 177);'>,</var><var style='background-color:rgb(163, 235, 177);'> </var><var style='background-color:rgb(251, 229, 229);'>u</var><var style='background-color:rgb(251, 229, 229);'>n</var><var style='background-color:rgb(251, 229, 229);'>t</var><var style='background-color:rgb(163, 235, 177);'>i</var><var style='background-color:rgb(251, 229, 229);'>l</var><var style='background-color:rgb(251, 229, 229);'> </var><var style='background-color:rgb(251, 229, 229);'>f</var><var style='background-color:rgb(251, 229, 229);'>i</var><var style='background-color:rgb(251, 229, 229);'>n</var><var style='background-color:rgb(251, 229, 229);'>a</var><var style='background-color:rgb(251, 229, 229);'>l</var><var style='background-color:rgb(251, 229, 229);'>l</var><var style='background-color:rgb(251, 229, 229);'>y</var><var style='background-color:rgb(251, 229, 229);'> </var><var style='background-color:rgb(251, 229, 229);'>i</var><var style='background-color:rgb(251, 229, 229);'>t</var><var style='background-color:rgb(251, 229, 229);'> </var><var style='background-color:rgb(251, 229, 229);'>b</var><var style='background-color:rgb(251, 229, 229);'>e</var><var style='background-color:rgb(251, 229, 229);'>c</var><var style='background-color:rgb(251, 229, 229);'>o</var><var style='background-color:rgb(251, 229, 229);'>m</var><var style='background-color:rgb(251, 229, 229);'>e</var><var style='background-color:rgb(163, 235, 177);'>s</var><var style='background-color:rgb(163, 235, 177);'> </var><var style='background-color:rgb(251, 229, 229);'>w</var><var style='background-color:rgb(251, 229, 229);'>h</var><var style='background-color:rgb(251, 229, 229);'>a</var><var style='background-color:rgb(163, 235, 177);'>t</var><var style='background-color:rgb(251, 229, 229);'> </var><var style='background-color:rgb(251, 229, 229);'>e</var><var style='background-color:rgb(251, 229, 229);'>v</var><var style='background-color:rgb(251, 229, 229);'>e</var><var style='background-color:rgb(251, 229, 229);'>r</var><var style='background-color:rgb(251, 229, 229);'>y</var><var style='background-color:rgb(251, 229, 229);'>b</var><var style='background-color:rgb(251, 229, 229);'>o</var><var style='background-color:rgb(251, 229, 229);'>d</var><var style='background-color:rgb(251, 229, 229);'>y</var><var style='background-color:rgb(251, 229, 229);'> </var><var style='background-color:rgb(251, 229, 229);'>k</var><var style='background-color:rgb(251, 229, 229);'>n</var><var style='background-color:rgb(251, 229, 229);'>o</var><var style='background-color:rgb(251, 229, 229);'>w</var><var style='background-color:rgb(251, 229, 229);'>s</var><var style='background-color:rgb(251, 229, 229);'>.</var><var style='background-color:rgb(251, 229, 229);'>\"</var><var style='background-color:rgb(251, 229, 229);'> </var><var style='background-color:rgb(251, 229, 229);'>-</var><var style='background-color:rgb(251, 229, 229);'> </var><var style='background-color:rgb(251, 229, 229);'>W</var><var style='background-color:rgb(251, 229, 229);'>i</var><var style='background-color:rgb(251, 229, 229);'>l</var><var style='background-color:rgb(251, 229, 229);'>l</var><var style='background-color:rgb(251, 229, 229);'>i</var><var style='background-color:rgb(251, 229, 229);'>a</var><var style='background-color:rgb(251, 229, 229);'>m</var><var style='background-color:rgb(251, 229, 229);'> </var><var style='background-color:rgb(251, 229, 229);'>J</var><var style='background-color:rgb(251, 229, 229);'>a</var><var style='background-color:rgb(251, 229, 229);'>m</var><var style='background-color:rgb(251, 229, 229);'>e</var><var style='background-color:rgb(251, 229, 229);'>s</var><var style='background-color:rgb(251, 229, 229);'> </var><var style='background-color:rgb(251, 229, 229);'>\"</var><var style='background-color:rgb(251, 229, 229);'>T</var><var style='background-color:rgb(163, 235, 177);'>h</var><var style='background-color:rgb(251, 229, 229);'>i</var><var style='background-color:rgb(251, 229, 229);'>s</var><var style='background-color:rgb(251, 229, 229);'> </var><var style='background-color:rgb(251, 229, 229);'>i</var><var style='background-color:rgb(251, 229, 229);'>s</var><var style='background-color:rgb(251, 229, 229);'> </var><var style='background-color:rgb(251, 229, 229);'>t</var><var style='background-color:rgb(251, 229, 229);'>h</var><var style='background-color:rgb(163, 235, 177);'>e</var><var style='background-color:rgb(163, 235, 177);'> </var><var style='background-color:rgb(251, 229, 229);'>r</var><var style='background-color:rgb(251, 229, 229);'>e</var><var style='background-color:rgb(251, 229, 229);'>a</var><var style='background-color:rgb(251, 229, 229);'>l</var><var style='background-color:rgb(251, 229, 229);'> </var><var style='background-color:rgb(251, 229, 229);'>t</var><var style='background-color:rgb(251, 229, 229);'>a</var><var style='background-color:rgb(251, 229, 229);'>s</var><var style='background-color:rgb(251, 229, 229);'>k</var><var style='background-color:rgb(251, 229, 229);'> </var><var style='background-color:rgb(251, 229, 229);'>b</var><var style='background-color:rgb(251, 229, 229);'>e</var><var style='background-color:rgb(251, 229, 229);'>f</var><var style='background-color:rgb(251, 229, 229);'>o</var><var style='background-color:rgb(251, 229, 229);'>r</var><var style='background-color:rgb(251, 229, 229);'>e</var><var style='background-color:rgb(251, 229, 229);'> </var><var style='background-color:rgb(251, 229, 229);'>u</var><var style='background-color:rgb(251, 229, 229);'>s</var><var style='background-color:rgb(251, 229, 229);'>:</var><var style='background-color:rgb(251, 229, 229);'> </var><var style='background-color:rgb(251, 229, 229);'>t</var><var style='background-color:rgb(251, 229, 229);'>o</var><var style='background-color:rgb(251, 229, 229);'> </var><var style='background-color:rgb(251, 229, 229);'>r</var><var style='background-color:rgb(251, 229, 229);'>e</var><var style='background-color:rgb(251, 229, 229);'>a</var><var style='background-color:rgb(251, 229, 229);'>s</var><var style='background-color:rgb(251, 229, 229);'>s</var><var style='background-color:rgb(251, 229, 229);'>e</var><var style='background-color:rgb(251, 229, 229);'>r</var><var style='background-color:rgb(251, 229, 229);'>t</var><var style='background-color:rgb(251, 229, 229);'> </var><var style='background-color:rgb(251, 229, 229);'>o</var><var style='background-color:rgb(251, 229, 229);'>u</var><var style='background-color:rgb(251, 229, 229);'>r</var><var style='background-color:rgb(251, 229, 229);'> </var><var style='background-color:rgb(251, 229, 229);'>c</var><var style='background-color:rgb(251, 229, 229);'>o</var><var style='background-color:rgb(251, 229, 229);'>m</var><var style='background-color:rgb(251, 229, 229);'>m</var><var style='background-color:rgb(163, 235, 177);'>i</var><var style='background-color:rgb(251, 229, 229);'>t</var><var style='background-color:rgb(251, 229, 229);'>m</var><var style='background-color:rgb(251, 229, 229);'>e</var><var style='background-color:rgb(251, 229, 229);'>n</var><var style='background-color:rgb(251, 229, 229);'>t</var><var style='background-color:rgb(251, 229, 229);'> </var><var style='background-color:rgb(251, 229, 229);'>a</var><var style='background-color:rgb(163, 235, 177);'>s</var><var style='background-color:rgb(163, 235, 177);'> </var><var style='background-color:rgb(251, 229, 229);'>a</var><var style='background-color:rgb(251, 229, 229);'> </var><var style='background-color:rgb(251, 229, 229);'>n</var><var style='background-color:rgb(251, 229, 229);'>a</var><var style='background-color:rgb(163, 235, 177);'>t</var><var style='background-color:rgb(251, 229, 229);'>i</var><var style='background-color:rgb(251, 229, 229);'>o</var><var style='background-color:rgb(251, 229, 229);'>n</var><var style='background-color:rgb(251, 229, 229);'> </var><var style='background-color:rgb(251, 229, 229);'>t</var><var style='background-color:rgb(251, 229, 229);'>o</var><var style='background-color:rgb(251, 229, 229);'> </var><var style='background-color:rgb(251, 229, 229);'>a</var><var style='background-color:rgb(251, 229, 229);'> </var><var style='background-color:rgb(251, 229, 229);'>l</var><var style='background-color:rgb(251, 229, 229);'>a</var><var style='background-color:rgb(251, 229, 229);'>w</var><var style='background-color:rgb(251, 229, 229);'> </var><var style='background-color:rgb(163, 235, 177);'>h</var><var style='background-color:rgb(251, 229, 229);'>i</var><var style='background-color:rgb(251, 229, 229);'>g</var><var style='background-color:rgb(251, 229, 229);'>h</var><var style='background-color:rgb(163, 235, 177);'>e</var><var style='background-color:rgb(251, 229, 229);'>r</var><var style='background-color:rgb(251, 229, 229);'> </var><var style='background-color:rgb(251, 229, 229);'>t</var><var style='background-color:rgb(251, 229, 229);'>h</var><var style='background-color:rgb(251, 229, 229);'>a</var><var style='background-color:rgb(251, 229, 229);'>n</var><var style='background-color:rgb(251, 229, 229);'> </var><var style='background-color:rgb(251, 229, 229);'>o</var><var style='background-color:rgb(251, 229, 229);'>u</var><var style='background-color:rgb(251, 229, 229);'>r</var><var style='background-color:rgb(251, 229, 229);'> </var><var style='background-color:rgb(251, 229, 229);'>o</var><var style='background-color:rgb(251, 229, 229);'>w</var><var style='background-color:rgb(251, 229, 229);'>n</var><var style='background-color:rgb(251, 229, 229);'>,</var>"
      ]
     },
     "metadata": {},
     "output_type": "display_data"
    },
    {
     "data": {
      "text/html": [
       "<var style='background-color:rgb(255, 255, 255);'>Continuation: </var><var style='background-color:rgb(163, 235, 177);'> </var><var style='background-color:rgb(163, 235, 177);'>a</var><var style='background-color:rgb(163, 235, 177);'>n</var><var style='background-color:rgb(163, 235, 177);'>d</var><var style='background-color:rgb(163, 235, 177);'> </var><var style='background-color:rgb(251, 229, 229);'>f</var><var style='background-color:rgb(251, 229, 229);'>o</var><var style='background-color:rgb(251, 229, 229);'>r</var><var style='background-color:rgb(251, 229, 229);'>e</var><var style='background-color:rgb(251, 229, 229);'>m</var><var style='background-color:rgb(251, 229, 229);'>o</var><var style='background-color:rgb(251, 229, 229);'>s</var><var style='background-color:rgb(251, 229, 229);'>t</var><var style='background-color:rgb(251, 229, 229);'> </var><var style='background-color:rgb(163, 235, 177);'>a</var><var style='background-color:rgb(251, 229, 229);'> </var><var style='background-color:rgb(251, 229, 229);'>p</var><var style='background-color:rgb(251, 229, 229);'>r</var><var style='background-color:rgb(251, 229, 229);'>i</var><var style='background-color:rgb(251, 229, 229);'>n</var><var style='background-color:rgb(251, 229, 229);'>c</var><var style='background-color:rgb(251, 229, 229);'>i</var><var style='background-color:rgb(251, 229, 229);'>p</var><var style='background-color:rgb(251, 229, 229);'>l</var><var style='background-color:rgb(251, 229, 229);'>e</var><var style='background-color:rgb(251, 229, 229);'> </var><var style='background-color:rgb(251, 229, 229);'>o</var><var style='background-color:rgb(251, 229, 229);'>f</var><var style='background-color:rgb(251, 229, 229);'> </var><var style='background-color:rgb(251, 229, 229);'>j</var><var style='background-color:rgb(251, 229, 229);'>u</var><var style='background-color:rgb(251, 229, 229);'>s</var><var style='background-color:rgb(251, 229, 229);'>t</var><var style='background-color:rgb(251, 229, 229);'>i</var><var style='background-color:rgb(251, 229, 229);'>c</var><var style='background-color:rgb(251, 229, 229);'>e</var><var style='background-color:rgb(163, 235, 177);'>,</var><var style='background-color:rgb(163, 235, 177);'> </var><var style='background-color:rgb(251, 229, 229);'>a</var><var style='background-color:rgb(251, 229, 229);'>n</var><var style='background-color:rgb(251, 229, 229);'>d</var><var style='background-color:rgb(251, 229, 229);'> </var><var style='background-color:rgb(163, 235, 177);'>i</var><var style='background-color:rgb(251, 229, 229);'>t</var><var style='background-color:rgb(251, 229, 229);'> </var><var style='background-color:rgb(251, 229, 229);'>i</var><var style='background-color:rgb(163, 235, 177);'>s</var><var style='background-color:rgb(163, 235, 177);'> </var><var style='background-color:rgb(163, 235, 177);'>t</var><var style='background-color:rgb(163, 235, 177);'>h</var><var style='background-color:rgb(163, 235, 177);'>e</var><var style='background-color:rgb(163, 235, 177);'> </var><var style='background-color:rgb(251, 229, 229);'>p</var><var style='background-color:rgb(251, 229, 229);'>r</var><var style='background-color:rgb(163, 235, 177);'>i</var><var style='background-color:rgb(251, 229, 229);'>n</var><var style='background-color:rgb(251, 229, 229);'>c</var><var style='background-color:rgb(251, 229, 229);'>i</var><var style='background-color:rgb(251, 229, 229);'>p</var><var style='background-color:rgb(251, 229, 229);'>l</var><var style='background-color:rgb(251, 229, 229);'>e</var><var style='background-color:rgb(251, 229, 229);'> </var><var style='background-color:rgb(251, 229, 229);'>o</var><var style='background-color:rgb(251, 229, 229);'>f</var><var style='background-color:rgb(251, 229, 229);'> </var><var style='background-color:rgb(251, 229, 229);'>j</var><var style='background-color:rgb(251, 229, 229);'>u</var><var style='background-color:rgb(163, 235, 177);'>s</var><var style='background-color:rgb(251, 229, 229);'>t</var><var style='background-color:rgb(251, 229, 229);'>i</var><var style='background-color:rgb(251, 229, 229);'>c</var><var style='background-color:rgb(251, 229, 229);'>e</var><var style='background-color:rgb(163, 235, 177);'> </var><var style='background-color:rgb(163, 235, 177);'>t</var><var style='background-color:rgb(163, 235, 177);'>h</var><var style='background-color:rgb(251, 229, 229);'>a</var><var style='background-color:rgb(251, 229, 229);'>t</var><var style='background-color:rgb(251, 229, 229);'> </var><var style='background-color:rgb(251, 229, 229);'>i</var><var style='background-color:rgb(251, 229, 229);'>s</var><var style='background-color:rgb(251, 229, 229);'> </var><var style='background-color:rgb(251, 229, 229);'>t</var><var style='background-color:rgb(251, 229, 229);'>h</var><var style='background-color:rgb(163, 235, 177);'>e</var><var style='background-color:rgb(251, 229, 229);'> </var><var style='background-color:rgb(251, 229, 229);'>b</var><var style='background-color:rgb(251, 229, 229);'>a</var><var style='background-color:rgb(251, 229, 229);'>s</var><var style='background-color:rgb(251, 229, 229);'>i</var><var style='background-color:rgb(251, 229, 229);'>s</var><var style='background-color:rgb(251, 229, 229);'> </var><var style='background-color:rgb(251, 229, 229);'>o</var><var style='background-color:rgb(251, 229, 229);'>f</var><var style='background-color:rgb(251, 229, 229);'> </var><var style='background-color:rgb(251, 229, 229);'>t</var><var style='background-color:rgb(251, 229, 229);'>h</var><var style='background-color:rgb(251, 229, 229);'>e</var><var style='background-color:rgb(251, 229, 229);'> </var><var style='background-color:rgb(251, 229, 229);'>d</var><var style='background-color:rgb(251, 229, 229);'>o</var><var style='background-color:rgb(251, 229, 229);'>c</var><var style='background-color:rgb(251, 229, 229);'>t</var><var style='background-color:rgb(251, 229, 229);'>r</var><var style='background-color:rgb(251, 229, 229);'>i</var><var style='background-color:rgb(251, 229, 229);'>n</var><var style='background-color:rgb(251, 229, 229);'>e</var><var style='background-color:rgb(251, 229, 229);'> </var><var style='background-color:rgb(251, 229, 229);'>o</var><var style='background-color:rgb(251, 229, 229);'>f</var><var style='background-color:rgb(251, 229, 229);'> </var><var style='background-color:rgb(251, 229, 229);'>j</var><var style='background-color:rgb(251, 229, 229);'>u</var><var style='background-color:rgb(251, 229, 229);'>s</var><var style='background-color:rgb(251, 229, 229);'>t</var><var style='background-color:rgb(251, 229, 229);'>i</var><var style='background-color:rgb(251, 229, 229);'>c</var><var style='background-color:rgb(251, 229, 229);'>e</var><var style='background-color:rgb(251, 229, 229);'>.</var><var style='background-color:rgb(251, 229, 229);'>\"</var><var style='background-color:rgb(251, 229, 229);'>-</var><var style='background-color:rgb(251, 229, 229);'> </var><var style='background-color:rgb(251, 229, 229);'>S</var><var style='background-color:rgb(251, 229, 229);'>t</var><var style='background-color:rgb(251, 229, 229);'>.</var><var style='background-color:rgb(251, 229, 229);'> </var><var style='background-color:rgb(251, 229, 229);'>A</var><var style='background-color:rgb(251, 229, 229);'>u</var><var style='background-color:rgb(251, 229, 229);'>g</var><var style='background-color:rgb(251, 229, 229);'>u</var><var style='background-color:rgb(251, 229, 229);'>s</var><var style='background-color:rgb(251, 229, 229);'>t</var><var style='background-color:rgb(251, 229, 229);'>i</var><var style='background-color:rgb(251, 229, 229);'>n</var><var style='background-color:rgb(251, 229, 229);'>e</var><var style='background-color:rgb(251, 229, 229);'> </var><var style='background-color:rgb(251, 229, 229);'>\"</var><var style='background-color:rgb(251, 229, 229);'>T</var><var style='background-color:rgb(251, 229, 229);'>h</var><var style='background-color:rgb(251, 229, 229);'>e</var><var style='background-color:rgb(251, 229, 229);'> </var><var style='background-color:rgb(251, 229, 229);'>d</var><var style='background-color:rgb(251, 229, 229);'>o</var><var style='background-color:rgb(251, 229, 229);'>c</var><var style='background-color:rgb(251, 229, 229);'>t</var><var style='background-color:rgb(251, 229, 229);'>r</var><var style='background-color:rgb(251, 229, 229);'>i</var><var style='background-color:rgb(251, 229, 229);'>n</var><var style='background-color:rgb(251, 229, 229);'>e</var><var style='background-color:rgb(251, 229, 229);'> </var><var style='background-color:rgb(251, 229, 229);'>o</var><var style='background-color:rgb(251, 229, 229);'>f</var><var style='background-color:rgb(251, 229, 229);'> </var><var style='background-color:rgb(251, 229, 229);'>j</var><var style='background-color:rgb(251, 229, 229);'>u</var><var style='background-color:rgb(251, 229, 229);'>s</var><var style='background-color:rgb(251, 229, 229);'>t</var><var style='background-color:rgb(251, 229, 229);'>i</var><var style='background-color:rgb(251, 229, 229);'>c</var><var style='background-color:rgb(251, 229, 229);'>e</var><var style='background-color:rgb(251, 229, 229);'> </var><var style='background-color:rgb(251, 229, 229);'>i</var><var style='background-color:rgb(251, 229, 229);'>s</var><var style='background-color:rgb(251, 229, 229);'> </var><var style='background-color:rgb(251, 229, 229);'>t</var><var style='background-color:rgb(251, 229, 229);'>h</var><var style='background-color:rgb(251, 229, 229);'>e</var><var style='background-color:rgb(251, 229, 229);'> </var><var style='background-color:rgb(251, 229, 229);'>p</var><var style='background-color:rgb(251, 229, 229);'>r</var><var style='background-color:rgb(251, 229, 229);'>i</var><var style='background-color:rgb(251, 229, 229);'>n</var><var style='background-color:rgb(251, 229, 229);'>c</var><var style='background-color:rgb(251, 229, 229);'>i</var><var style='background-color:rgb(251, 229, 229);'>p</var><var style='background-color:rgb(251, 229, 229);'>l</var><var style='background-color:rgb(251, 229, 229);'>e</var><var style='background-color:rgb(251, 229, 229);'> </var><var style='background-color:rgb(251, 229, 229);'>o</var><var style='background-color:rgb(251, 229, 229);'>f</var><var style='background-color:rgb(251, 229, 229);'> </var><var style='background-color:rgb(251, 229, 229);'>j</var><var style='background-color:rgb(251, 229, 229);'>u</var><var style='background-color:rgb(251, 229, 229);'>s</var><var style='background-color:rgb(251, 229, 229);'>t</var><var style='background-color:rgb(251, 229, 229);'>i</var><var style='background-color:rgb(251, 229, 229);'>c</var><var style='background-color:rgb(251, 229, 229);'>e</var><var style='background-color:rgb(251, 229, 229);'> </var><var style='background-color:rgb(251, 229, 229);'>t</var><var style='background-color:rgb(251, 229, 229);'>h</var><var style='background-color:rgb(251, 229, 229);'>a</var><var style='background-color:rgb(251, 229, 229);'>t</var><var style='background-color:rgb(251, 229, 229);'> </var><var style='background-color:rgb(251, 229, 229);'>i</var><var style='background-color:rgb(251, 229, 229);'>s</var><var style='background-color:rgb(251, 229, 229);'> </var><var style='background-color:rgb(251, 229, 229);'>t</var><var style='background-color:rgb(251, 229, 229);'>h</var><var style='background-color:rgb(251, 229, 229);'>e</var><var style='background-color:rgb(251, 229, 229);'> </var><var style='background-color:rgb(251, 229, 229);'>b</var><var style='background-color:rgb(251, 229, 229);'>a</var><var style='background-color:rgb(251, 229, 229);'>s</var><var style='background-color:rgb(251, 229, 229);'>i</var><var style='background-color:rgb(251, 229, 229);'>s</var><var style='background-color:rgb(251, 229, 229);'> </var><var style='background-color:rgb(251, 229, 229);'>o</var><var style='background-color:rgb(251, 229, 229);'>f</var><var style='background-color:rgb(251, 229, 229);'> </var><var style='background-color:rgb(251, 229, 229);'>t</var><var style='background-color:rgb(251, 229, 229);'>h</var><var style='background-color:rgb(251, 229, 229);'>e</var><var style='background-color:rgb(251, 229, 229);'> </var><var style='background-color:rgb(251, 229, 229);'>d</var><var style='background-color:rgb(251, 229, 229);'>o</var><var style='background-color:rgb(251, 229, 229);'>c</var><var style='background-color:rgb(251, 229, 229);'>t</var><var style='background-color:rgb(251, 229, 229);'>r</var><var style='background-color:rgb(251, 229, 229);'>i</var><var style='background-color:rgb(251, 229, 229);'>n</var><var style='background-color:rgb(251, 229, 229);'>e</var><var style='background-color:rgb(251, 229, 229);'> </var><var style='background-color:rgb(251, 229, 229);'>o</var><var style='background-color:rgb(251, 229, 229);'>f</var><var style='background-color:rgb(251, 229, 229);'> </var><var style='background-color:rgb(251, 229, 229);'>j</var><var style='background-color:rgb(251, 229, 229);'>u</var><var style='background-color:rgb(251, 229, 229);'>s</var><var style='background-color:rgb(251, 229, 229);'>t</var><var style='background-color:rgb(251, 229, 229);'>i</var><var style='background-color:rgb(251, 229, 229);'>c</var><var style='background-color:rgb(251, 229, 229);'>e</var><var style='background-color:rgb(251, 229, 229);'>.</var><var style='background-color:rgb(251, 229, 229);'>\"</var><var style='background-color:rgb(251, 229, 229);'>-</var><var style='background-color:rgb(251, 229, 229);'> </var><var style='background-color:rgb(251, 229, 229);'>S</var><var style='background-color:rgb(251, 229, 229);'>t</var>"
      ]
     },
     "metadata": {},
     "output_type": "display_data"
    }
   ],
   "source": [
    "from IPython.display import display_html\n",
    "\n",
    "def to_html(text, r, g, b):\n",
    "    return \"<var style='background-color:rgb({}, {}, {});'>{}</var>\".format(\n",
    "        r, g, b, text\n",
    "    )\n",
    "\n",
    "z = to_html(\"Prompt: \" + prefix_input, *[255,255,255])\n",
    "display_html(z, raw=True)\n",
    "\n",
    "res = ''\n",
    "res += to_html(\"Groundtruth: \", *[255,255,255])\n",
    "idx = 0\n",
    "for c in suffix_input:\n",
    "    if idx < len(overlapped_text) and c == overlapped_text[idx]:\n",
    "        res += to_html(c, *[163,235,177])\n",
    "        idx += 1\n",
    "    else:\n",
    "        res += to_html(c, *[251,229,229])\n",
    "display_html(res, raw=True)\n",
    "\n",
    "res = ''\n",
    "res += to_html(\"Continuation: \", *[255,255,255])\n",
    "idx = 0\n",
    "for c in suffix_pred:\n",
    "    if idx < len(overlapped_text) and c == overlapped_text[idx]:\n",
    "        res += to_html(c, *[163,235,177])\n",
    "        idx += 1\n",
    "    else:\n",
    "        res += to_html(c, *[251,229,229])\n",
    "display_html(res, raw=True)"
   ]
  }
 ],
 "metadata": {
  "kernelspec": {
   "display_name": "gpt",
   "language": "python",
   "name": "python3"
  },
  "language_info": {
   "codemirror_mode": {
    "name": "ipython",
    "version": 3
   },
   "file_extension": ".py",
   "mimetype": "text/x-python",
   "name": "python",
   "nbconvert_exporter": "python",
   "pygments_lexer": "ipython3",
   "version": "3.8.16"
  },
  "orig_nbformat": 4
 },
 "nbformat": 4,
 "nbformat_minor": 2
}
